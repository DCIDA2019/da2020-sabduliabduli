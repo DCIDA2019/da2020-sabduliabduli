{
 "cells": [
  {
   "cell_type": "code",
   "execution_count": 4,
   "metadata": {},
   "outputs": [
    {
     "name": "stdout",
     "output_type": "stream",
     "text": [
      "Populating the interactive namespace from numpy and matplotlib\n"
     ]
    }
   ],
   "source": [
    "import numpy as np\n",
    "import matplotlib.pyplot as plt\n",
    "%pylab inline"
   ]
  },
  {
   "cell_type": "code",
   "execution_count": 94,
   "metadata": {},
   "outputs": [
    {
     "data": {
      "text/plain": [
       "'marcianocaballo'"
      ]
     },
     "execution_count": 94,
     "metadata": {},
     "output_type": "execute_result"
    }
   ],
   "source": [
    "palabra1=\"marciano\"\n",
    "palabra2=\"caballo\"\n",
    "\n",
    "palabra1+palabra2"
   ]
  },
  {
   "cell_type": "code",
   "execution_count": 87,
   "metadata": {},
   "outputs": [],
   "source": [
    "arreglo = np.arange(-5, 5.25, 0.25)\n",
    "arreglo2 = np.linspace(-5,5,0.2)"
   ]
  },
  {
   "cell_type": "code",
   "execution_count": 110,
   "metadata": {
    "scrolled": true
   },
   "outputs": [
    {
     "name": "stdout",
     "output_type": "stream",
     "text": [
      "CPU times: user 3 µs, sys: 1 µs, total: 4 µs\n",
      "Wall time: 8.82 µs\n"
     ]
    },
    {
     "data": {
      "text/plain": [
       "(array([-5.  , -4.75, -4.5 , -4.25, -4.  , -3.75, -3.5 , -3.25, -3.  ,\n",
       "        -2.75, -2.5 , -2.25, -2.  , -1.75, -1.5 , -1.25, -1.  , -0.75,\n",
       "        -0.5 , -0.25,  0.  ,  0.25,  0.5 ,  0.75,  1.  ,  1.25,  1.5 ,\n",
       "         1.75,  2.  ,  2.25,  2.5 ,  2.75,  3.  ,  3.25,  3.5 ,  3.75,\n",
       "         4.  ,  4.25,  4.5 ,  4.75,  5.  ]),\n",
       " array([-5.        , -3.88888889, -2.77777778, -1.66666667, -0.55555556,\n",
       "         0.55555556,  1.66666667,  2.77777778,  3.88888889,  5.        ]))"
      ]
     },
     "execution_count": 110,
     "metadata": {},
     "output_type": "execute_result"
    }
   ],
   "source": [
    "%time arreglo, arreglo2\n"
   ]
  },
  {
   "cell_type": "code",
   "execution_count": 111,
   "metadata": {},
   "outputs": [
    {
     "data": {
      "text/plain": [
       "(-1.4615915693101362, 0.6342879293419266)"
      ]
     },
     "execution_count": 111,
     "metadata": {},
     "output_type": "execute_result"
    }
   ],
   "source": [
    "#Funciones primer tipo\n",
    "\n",
    "fx = lambda x,y: np.cos(x)*np.sqrt(y)\n",
    "fx2 = lambda x: np.cos(x)*np.sqrt(x)\n",
    "\n",
    "fx(4,5),fx2(5)"
   ]
  },
  {
   "cell_type": "code",
   "execution_count": 57,
   "metadata": {},
   "outputs": [],
   "source": [
    "#Funciones segundo tipo\n",
    "def funcion(x,y):\n",
    "    return(x + y)"
   ]
  },
  {
   "cell_type": "code",
   "execution_count": 58,
   "metadata": {},
   "outputs": [
    {
     "data": {
      "text/plain": [
       "10"
      ]
     },
     "execution_count": 58,
     "metadata": {},
     "output_type": "execute_result"
    }
   ],
   "source": [
    "funcion(5,5)"
   ]
  },
  {
   "cell_type": "code",
   "execution_count": 112,
   "metadata": {},
   "outputs": [
    {
     "name": "stdout",
     "output_type": "stream",
     "text": [
      "[ 0.          0.31464794  0.4382991   0.52325935  0.58253012  0.62054458\n",
      "  0.63930222  0.63991288  0.62315342  0.58971099  0.54030231  0.47573563\n",
      "  0.39694303  0.30499559  0.20110784  0.08663502 -0.0369348  -0.16799267\n",
      " -0.3048236  -0.44562392 -0.5885205  -0.73159151 -0.87288822 -1.01045762\n",
      " -1.14236543 -1.26671928 -1.3816916  -1.48554212 -1.57663954 -1.65348217\n",
      " -1.7147173  -1.75915896 -1.78580398 -1.79384609 -1.78268778 -1.75195004\n",
      " -1.70147946 -1.63135298 -1.54187992 -1.43360143 -1.30728724 -1.16392978\n",
      " -1.0047357  -0.83111485 -0.64466687 -0.44716542 -0.24054037 -0.02685798\n",
      "  0.19170067  0.41286273  0.63428793  0.85359392  1.06838239  1.27626557\n",
      "  1.47489296  1.66197794  1.83532385  1.99284946  2.1326134   2.25283728\n",
      "  2.35192727  2.4284939   2.48136981  2.50962526  2.51258118  2.48981968\n",
      "  2.44119173  2.3668221   2.26711128  2.14273454  1.99463788  1.82403108\n",
      "  1.63237787  1.42138318  1.19297771  0.94929991  0.69267558  0.42559519\n",
      "  0.15068929 -0.12929789 -0.41153624 -0.69313881 -0.97119172 -1.24278464\n",
      " -1.50504151 -1.75515122 -1.99039789 -2.20819036 -2.40609071 -2.58184142\n",
      " -2.73339079 -2.85891653 -2.9568471  -3.02588057 -3.06500083 -3.073491\n",
      " -3.05094373 -2.99726838 -2.91269495 -2.79777465]\n"
     ]
    },
    {
     "data": {
      "image/png": "[encoded data removed]",
      "text/plain": [
       "<Figure size 432x288 with 1 Axes>"
      ]
     },
     "metadata": {},
     "output_type": "display_data"
    }
   ],
   "source": [
    "#Graficar\n",
    "\n",
    "x = np.arange(0,10,0.1)\n",
    "y = np.cos(x)*np.sqrt(x)\n",
    "print(y)\n",
    "\n",
    "plt.plot(x, y)\n",
    "plt.xlabel('x')\n",
    "plt.ylabel('y')\n",
    "plt.title('Gráfica')\n",
    "plt.show()"
   ]
  },
  {
   "cell_type": "code",
   "execution_count": null,
   "metadata": {},
   "outputs": [],
   "source": []
  }
 ],
 "metadata": {
  "kernelspec": {
   "display_name": "Python 3",
   "language": "python",
   "name": "python3"
  },
  "language_info": {
   "codemirror_mode": {
    "name": "ipython",
    "version": 3
   },
   "file_extension": ".py",
   "mimetype": "text/x-python",
   "name": "python",
   "nbconvert_exporter": "python",
   "pygments_lexer": "ipython3",
   "version": "3.7.5"
  }
 },
 "nbformat": 4,
 "nbformat_minor": 2
}
